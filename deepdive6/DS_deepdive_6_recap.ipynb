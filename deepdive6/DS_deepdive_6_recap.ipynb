{
 "cells": [
  {
   "attachments": {},
   "cell_type": "markdown",
   "metadata": {},
   "source": [
    "# What we learned so far\n",
    "\n",
    "## Working with different tools\n",
    "- Profiling data \n",
    "    - With Excel\n",
    "    - With Python\n",
    "- Visualizing data\n",
    "    - With Excel\n",
    "    - With Python\n",
    "    - With Power BI\n",
    "- Transforming data \n",
    "    - With Python\n",
    "    - ...?\n",
    "\n",
    "Others ...? \n",
    "\n",
    "**What can we use SQL for??**\n",
    "\n",
    "## Theory \n",
    "- We learned about the different steps of Data Preparation\n",
    "    1. Collection\n",
    "    1. Profiling\n",
    "    1. Cleansing and validation\n",
    "    1. Transformation\n",
    "    1. Storage and visualization\n",
    "\n",
    "### The steps of data preparation\n",
    "1. Collection\n",
    "    - Get my data from the source into my system\n",
    "    - reading from a CSV file \n",
    "    - ...?\n",
    "1. Profiling\n",
    "    - What is in my data?\n",
    "    - Summarizing what do the columns mean? \n",
    "    - What kind of values are in my data?\n",
    "1. Cleansing and validation\n",
    "    - Are we missing values?\n",
    "    - Do the values that are there make sense? Erroneous values?\n",
    "1. Transformation\n",
    "    - Combining different data sources?\n",
    "    - Handling missing values\n",
    "        - remove column? remove row?\n",
    "        - fill missing value?\n",
    "    - Calculated columns???\n",
    "1. Storage and visualization\n",
    "    - different types of graphs and plots\n",
    "    - how to make a nice plot\n",
    "    - Dashboard \n",
    "\n",
    "![Image: Steps of data prepration](images/steps_data_preparation.png)\n",
    "\n",
    "### Data Quality pyramid\n",
    "How do we get from raw data to something with quality?\n",
    "\n",
    "![Image: Data quality pyramid](images/data_quality_pyramid.png)\n",
    "\n",
    "## Dataset\n",
    "**Melbourne Housingprice dataset**\n",
    "\n",
    "What can you tell us about the content of this dataset?\n",
    "\n",
    "Columns? \n",
    "\n",
    "Data? \n",
    "\n",
    "- When? \n",
    "- Where?\n",
    "- Why?\n",
    "- ...?"
   ]
  },
  {
   "cell_type": "code",
   "execution_count": null,
   "metadata": {},
   "outputs": [],
   "source": [
    "# First, let's import the necessary libraries\n",
    "import pandas as pd\n",
    "import matplotlib.pyplot as plt\n",
    "\n",
    "# Next, load the dataset\n",
    "df = pd.read_csv('../data/melb_data.csv') # replace with your CSV's path\n",
    "df.head()"
   ]
  },
  {
   "attachments": {},
   "cell_type": "markdown",
   "metadata": {},
   "source": [
    "# How can we get more value from our Housing Price Dataset?\n",
    "Situation: \n",
    "- The year is 2017\n",
    "- You are a data scientist at a company that is selling and buying houses in Melbourne\n",
    "- You have already done the following:\n",
    "    1. Gathered all the data for past sales of houses in the Melbourne region\n",
    "    1. Cleaned this data and put it int a CSV format for storage\n",
    "    1. Created a dashboard with some stats for the realtors to look at\n",
    "- Realtors are quite pleased with you!!!\n",
    "- Realtors are wondering ... if we know the characteristics of a house, can we predict for what price it will sell?? \n",
    "- You have learned about Machine Learning models at SpikeUp, and you want to test this!\n"
   ]
  },
  {
   "attachments": {},
   "cell_type": "markdown",
   "metadata": {},
   "source": [
    "# How to create a Machine Learning model?\n",
    "![Image: Steps of creating a ML Model](images/What-is-ML-Model.jpg)"
   ]
  },
  {
   "cell_type": "code",
   "execution_count": null,
   "metadata": {},
   "outputs": [],
   "source": []
  }
 ],
 "metadata": {
  "language_info": {
   "name": "python"
  },
  "orig_nbformat": 4
 },
 "nbformat": 4,
 "nbformat_minor": 2
}
