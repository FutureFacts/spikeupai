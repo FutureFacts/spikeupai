{
 "cells": [
  {
   "cell_type": "markdown",
   "metadata": {},
   "source": [
    "# MatPlotLib Tutorial"
   ]
  },
  {
   "cell_type": "code",
   "execution_count": null,
   "metadata": {},
   "outputs": [],
   "source": [
    "import matplotlib as mpl\n",
    "import matplotlib.pyplot as plt\n",
    "import numpy as np"
   ]
  },
  {
   "cell_type": "markdown",
   "metadata": {},
   "source": [
    "### Matplotlib is a cross-platform, data visualization and graphical plotting library (histograms, scatter plots, bar charts, etc) for Python. "
   ]
  },
  {
   "cell_type": "markdown",
   "metadata": {},
   "source": [
    "## Types of Plots"
   ]
  },
  {
   "cell_type": "markdown",
   "metadata": {},
   "source": [
    "1. plot(x,y)"
   ]
  },
  {
   "cell_type": "code",
   "execution_count": null,
   "metadata": {},
   "outputs": [],
   "source": [
    "x = [1, 2, 3, 4]\n",
    "y = [1, 7, 2, 3]\n",
    "\n",
    "fig, ax = plt.subplots() \n",
    "ax.plot(x,y)  \n",
    "plt.show()\n",
    "\n",
    "# what kind of data would we visualise in this way? "
   ]
  },
  {
   "cell_type": "markdown",
   "metadata": {},
   "source": [
    "2. Scatterplot "
   ]
  },
  {
   "cell_type": "code",
   "execution_count": null,
   "metadata": {},
   "outputs": [],
   "source": [
    "np.random.seed(3) \n",
    "x = np.random.normal(0, 2, 24)\n",
    "y = np.random.normal(0, 2, 24)\n",
    "\n",
    "# plot\n",
    "fig, ax = plt.subplots()\n",
    "ax.scatter(x, y)\n",
    "plt.show()\n",
    "\n",
    "# what kind of data would we visualise in this way? "
   ]
  },
  {
   "cell_type": "markdown",
   "metadata": {},
   "source": [
    "3. BarChart"
   ]
  },
  {
   "cell_type": "code",
   "execution_count": null,
   "metadata": {},
   "outputs": [],
   "source": [
    "np.random.seed(3)\n",
    "x = np.arange(8)\n",
    "y = np.random.uniform(2, 7, len(x))\n",
    "\n",
    "# plot\n",
    "fig, ax = plt.subplots()\n",
    "ax.bar(x, y)\n",
    "plt.show()\n",
    "\n",
    "# what kind of data would we visualise in this way? "
   ]
  },
  {
   "cell_type": "markdown",
   "metadata": {},
   "source": [
    "4. Boxplot"
   ]
  },
  {
   "cell_type": "code",
   "execution_count": null,
   "metadata": {},
   "outputs": [],
   "source": [
    "np.random.seed(10)\n",
    "D = np.random.normal((3, 5, 4), (1.25, 1.00, 1.25), (100, 3))\n",
    "\n",
    "# plot\n",
    "fig, ax = plt.subplots()\n",
    "ax.boxplot(D)\n",
    "plt.show()\n",
    "\n",
    "# what kind of data would we visualise in this way? \n"
   ]
  },
  {
   "cell_type": "markdown",
   "metadata": {},
   "source": [
    "## How to make a graph more clear"
   ]
  },
  {
   "cell_type": "code",
   "execution_count": null,
   "metadata": {},
   "outputs": [],
   "source": [
    "# An example: \n",
    "\n",
    "x = np.linspace(0, 2, 100) \n",
    "y = np.linspace(0, 7, 100) \n",
    "\n",
    "plt.figure(figsize=(5, 2.7), layout='constrained')\n",
    "plt.plot(x, y, color=\"red\", label='linear')  \n",
    "plt.plot(x, y**2, color=\"orange\", linestyle= \"--\", label='quadratic') \n",
    "plt.xlabel('x label')\n",
    "plt.ylabel('y label')\n",
    "plt.title(\"Simple Plot\")\n",
    "plt.legend()"
   ]
  },
  {
   "cell_type": "markdown",
   "metadata": {},
   "source": [
    "## Excercise 1 \n",
    "\n",
    "The following can help: \n",
    "1. https://matplotlib.org\n",
    "2. Search stack overflow "
   ]
  },
  {
   "cell_type": "markdown",
   "metadata": {},
   "source": [
    "#### Excercise 1: Beginner \n",
    "\n",
    "1. Change the colour used for both lines \n",
    "2. Change the x and y labels \n",
    "3. Change the title "
   ]
  },
  {
   "cell_type": "code",
   "execution_count": null,
   "metadata": {},
   "outputs": [],
   "source": [
    "#fill in your solution here"
   ]
  },
  {
   "cell_type": "markdown",
   "metadata": {},
   "source": [
    "#### Excercise 1: Intermediate \n",
    "\n",
    "1. Change the colour used for both lines \n",
    "2. Change the linestyle \n",
    "3. Change the x and y labels \n",
    "4. Change the legend labels \n",
    "5. Change the title \n",
    "6. Add addtional datta \"z\" "
   ]
  },
  {
   "cell_type": "code",
   "execution_count": null,
   "metadata": {},
   "outputs": [],
   "source": [
    "# fill in your solution here"
   ]
  },
  {
   "cell_type": "markdown",
   "metadata": {},
   "source": [
    "#### Excercise 1: Advanced \n",
    "\n",
    "By understanding the features in the \"Simple Plot\" edit the 4 kinds of plots to add the following feature: \n",
    "\n",
    "For the above 4 kinds of plot\n",
    "1. plot(x,y)\n",
    "2. scatter(x,y)\n",
    "3. bar(x,y)\n",
    "4. boxplot(x)\n",
    "\n",
    "\n",
    "Add the following:\n",
    "\n",
    "1. Color \n",
    "2. xlim, ylim \n",
    "3. Title \n",
    "4. labels \n",
    "5. linestyle\n",
    "6. Any extras \n"
   ]
  },
  {
   "cell_type": "code",
   "execution_count": null,
   "metadata": {},
   "outputs": [],
   "source": [
    "# fill in your solution here"
   ]
  },
  {
   "cell_type": "markdown",
   "metadata": {},
   "source": [
    "# Part 2: Research Project using MatplotLib"
   ]
  },
  {
   "cell_type": "markdown",
   "metadata": {},
   "source": [
    "Using the data that we preprocessed and cleaned in the previous notebook (import the csv you saved) we are going to use visualisation to try further understand a research question: \n",
    "### Research Question: Based on the climate data, which is the best time in our dataset to travel to Delhi? \n",
    "\n",
    "We can break this question into parts to give the most accurate answer: \n",
    "1. Which date has the highest temperature? \n",
    "2. Which date has the lowest humidity? \n",
    "3. Which date has the lowest windspeed?\n",
    "4. Which date has the lowest meanpressure? "
   ]
  },
  {
   "cell_type": "code",
   "execution_count": null,
   "metadata": {},
   "outputs": [],
   "source": [
    "import pandas as pd  \n",
    "\n",
    "#read in the data\n",
    "climate_data = pd.read_csv('csv_data/DailyDelhiClimate.csv') #read in your preprocessed data\n",
    "climate_data"
   ]
  },
  {
   "cell_type": "markdown",
   "metadata": {},
   "source": [
    "### Excercise 2: Beginner\n",
    "\n",
    "#### Create a plot of the meantemp over the time period in the data. \n",
    "\n",
    "Things to think about: \n",
    "1. What kind of plot is best for this data? Scatter? Lineplot? BarChart? \n",
    "2. What is best to be plotted on the x axis and the y axis? \n",
    "3. Give labels to the x and y axis \n",
    "4. Give a title to your graph\n",
    "\n",
    "Based on the data: when would you travel to Delhi? \n"
   ]
  },
  {
   "cell_type": "code",
   "execution_count": null,
   "metadata": {},
   "outputs": [],
   "source": [
    "# fill in your solution here"
   ]
  },
  {
   "cell_type": "markdown",
   "metadata": {},
   "source": [
    "### Excercise 2: Intermediate\n",
    "\n",
    "#### Create 4 plots for each of the parts of the research question: \n",
    "\n",
    "Things to think about: \n",
    "1. Which kind of graph is best, look up https://matplotlib.org to see if there are any better ways to graph the data \n",
    "2. Which column for the x and y data \n",
    "3. Add all the feature from excercise 1 "
   ]
  },
  {
   "cell_type": "code",
   "execution_count": null,
   "metadata": {},
   "outputs": [],
   "source": [
    "# fill in your solution here "
   ]
  },
  {
   "cell_type": "markdown",
   "metadata": {},
   "source": [
    "### Excercise 2: Advanced \n",
    "\n",
    "#### Create a plot which describes each part of the research question\n",
    "\n",
    "1. Graph each of the features in one figure\n",
    "2. Label each column of data\n",
    "3. Add an additional feature to the plot by looking up https://matplotlib.org, e.g. would a 3D graph be suitable here? \n"
   ]
  },
  {
   "cell_type": "code",
   "execution_count": null,
   "metadata": {},
   "outputs": [],
   "source": [
    "# fill in your solution here"
   ]
  }
 ],
 "metadata": {
  "kernelspec": {
   "display_name": "Python 3.10.5 ('venv': venv)",
   "language": "python",
   "name": "python3"
  },
  "language_info": {
   "codemirror_mode": {
    "name": "ipython",
    "version": 3
   },
   "file_extension": ".py",
   "mimetype": "text/x-python",
   "name": "python",
   "nbconvert_exporter": "python",
   "pygments_lexer": "ipython3",
   "version": "3.10.5"
  },
  "orig_nbformat": 4,
  "vscode": {
   "interpreter": {
    "hash": "e2dcac62267a8006cb2aec5c81fb50c7f2c71d2a3aceabb3c0684a697eca7a52"
   }
  }
 },
 "nbformat": 4,
 "nbformat_minor": 2
}
