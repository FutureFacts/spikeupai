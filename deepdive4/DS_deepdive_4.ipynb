{
 "cells": [
  {
   "attachments": {},
   "cell_type": "markdown",
   "metadata": {},
   "source": [
    "# Pandas: Data Preparation\n",
    "In this section we're going to cover different data pre processing techniques to clean the data for data science purposes.\n",
    "For the first exercise take a look at `dropna()` and `drop_duplicates()` in the Pandas library."
   ]
  },
  {
   "cell_type": "code",
   "execution_count": null,
   "metadata": {},
   "outputs": [],
   "source": [
    "#Data Ingestion\n",
    "import pandas as pd\n",
    "raw_data = pd.read_pickle('csv_data/RawDailyDelhiClimate.pkl')\n",
    "raw_data"
   ]
  },
  {
   "attachments": {},
   "cell_type": "markdown",
   "metadata": {},
   "source": [
    "Exercise 1: Basic cleaning\n",
    "1. What kind of data inconsistencies can you spot?\n",
    "2. Delete missing values from the data set.\n",
    "3. Delete duplicate values from the data set."
   ]
  },
  {
   "cell_type": "code",
   "execution_count": null,
   "metadata": {},
   "outputs": [],
   "source": [
    "#Write your solutions for exercise 1 here."
   ]
  },
  {
   "attachments": {},
   "cell_type": "markdown",
   "metadata": {},
   "source": [
    "Exercise 2: Intermediate cleaning\n",
    "\n",
    "1. Write a function that includes the cleaning steps from the previous exercise, that takes a data frame as input and returns a cleaner data frame.\n",
    "2. Solve the other data inconsistencies in the data set and include this solution in the function you just wrote.\n",
    "3. Write the data as a csv named 'Clean{YOUR NAME}DailyDelhiClimate'."
   ]
  },
  {
   "cell_type": "code",
   "execution_count": null,
   "metadata": {},
   "outputs": [],
   "source": [
    "#Write your solutions for exercise 2 here."
   ]
  },
  {
   "attachments": {},
   "cell_type": "markdown",
   "metadata": {},
   "source": [
    "Exercise 3: Advanced Data quality check\n",
    "We've prepared a data set that is already clean. Now we use this prepped data set a double check.\n",
    "\n",
    "1. Read BOTH the prepped data csv file and the cleaned data set csv file that you just created. Do you notice anything different? If so, do you understand where it comes from?\n",
    "2. Create a solution that solves the difference in the first question of this exercise.\n",
    "3. Create a function that checks if the two data sets are the same or not.\n",
    "4. Create a nice weather function that adds a new column to the existing data set.\n",
    "5. Save the resulting data set."
   ]
  },
  {
   "cell_type": "code",
   "execution_count": null,
   "metadata": {},
   "outputs": [],
   "source": [
    "#Write your solutions for exercise 3 here."
   ]
  }
 ],
 "metadata": {
  "kernelspec": {
   "display_name": "data_science",
   "language": "python",
   "name": "python3"
  },
  "language_info": {
   "codemirror_mode": {
    "name": "ipython",
    "version": 3
   },
   "file_extension": ".py",
   "mimetype": "text/x-python",
   "name": "python",
   "nbconvert_exporter": "python",
   "pygments_lexer": "ipython3",
   "version": "3.11.1 (main, Feb 14 2023, 15:58:09) [Clang 14.0.0 (clang-1400.0.29.202)]"
  },
  "orig_nbformat": 4,
  "vscode": {
   "interpreter": {
    "hash": "9ab0d8098df426ef8fc77b974d00ef1335da7881759b559e9dde3f97c8e7d45d"
   }
  }
 },
 "nbformat": 4,
 "nbformat_minor": 2
}
