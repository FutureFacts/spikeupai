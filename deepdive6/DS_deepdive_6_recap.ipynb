{
 "cells": [
  {
   "cell_type": "markdown",
   "metadata": {},
   "source": [
    "# What we learned so far\n",
    "\n",
    "## Working with different tools\n",
    "- Profiling data \n",
    "    - With Excel\n",
    "    - With Python\n",
    "- Visualizing data\n",
    "    - With Excel\n",
    "    - With Python\n",
    "    - With Power BI\n",
    "- Transforming data \n",
    "    - With Python\n",
    "    - ...?\n",
    "\n",
    "Others ...? \n",
    "\n",
    "**What can we use SQL for??**\n",
    "\n",
    "## Theory \n",
    "- We learned about the different steps of Data Preparation\n",
    "    1. Collection\n",
    "    1. Profiling\n",
    "    1. Cleansing and validation\n",
    "    1. Transformation\n",
    "    1. Storage and visualization\n",
    "\n",
    "### The steps of data preparation\n",
    "1. Collection\n",
    "    - Get my data from the source into my system\n",
    "    - reading from a CSV file \n",
    "    - ...?\n",
    "1. Profiling\n",
    "    - What is in my data?\n",
    "    - Summarizing what do the columns mean? \n",
    "    - What kind of values are in my data?\n",
    "1. Cleansing and validation\n",
    "    - Are we missing values?\n",
    "    - Do the values that are there make sense? Erroneous values?\n",
    "1. Transformation\n",
    "    - Combining different data sources?\n",
    "    - Handling missing values\n",
    "        - remove column? remove row?\n",
    "        - fill missing value?\n",
    "    - Calculated columns???\n",
    "1. Storage and visualization\n",
    "    - different types of graphs and plots\n",
    "    - how to make a nice plot\n",
    "    - Dashboard \n",
    "\n",
    "![Image: Steps of data prepration](images/steps_data_preparation.png)\n",
    "\n",
    "### Data Quality pyramid\n",
    "How do we get from raw data to something with quality?\n",
    "\n",
    "![Image: Data quality pyramid](images/data_quality_pyramid.png)\n",
    "\n",
    "## Dataset\n",
    "**Melbourne Housingprice dataset**\n",
    "\n",
    "What can you tell us about the content of this dataset?\n",
    "\n",
    "Columns? \n",
    "\n",
    "Data? \n",
    "\n",
    "- When? \n",
    "- Where?\n",
    "- Why?\n",
    "- ...?"
   ]
  },
  {
   "cell_type": "code",
   "execution_count": null,
   "metadata": {},
   "outputs": [],
   "source": [
    "# First, let's import the necessary libraries\n",
    "import pandas as pd\n",
    "import matplotlib.pyplot as plt\n",
    "\n",
    "# Next, load the dataset\n",
    "df = pd.read_csv('../data/melb_data.csv') # replace with your CSV's path\n",
    "df.head()"
   ]
  },
  {
   "cell_type": "code",
   "execution_count": null,
   "metadata": {},
   "outputs": [],
   "source": [
    "df.info()"
   ]
  },
  {
   "attachments": {},
   "cell_type": "markdown",
   "metadata": {},
   "source": [
    "### Interpreting Data Description\n",
    "The results show 8 numbers for each column in your original dataset. The first number, the count, shows how many rows have non-missing values.\n",
    "\n",
    "Missing values arise for many reasons. For example, the size of the 2nd bedroom wouldn't be collected when surveying a 1 bedroom house. We'll come back to the topic of missing data.\n",
    "\n",
    "The second value is the mean, which is the average. Under that, std is the standard deviation, which measures how numerically spread out the values are.\n",
    "\n",
    "To interpret the min, 25%, 50%, 75% and max values, imagine sorting each column from lowest to highest value. The first (smallest) value is the min. If you go a quarter way through the list, you'll find a number that is bigger than 25% of the values and smaller than 75% of the values. That is the 25% value (pronounced \"25th percentile\"). The 50th and 75th percentiles are defined analogously, and the max is the largest number."
   ]
  },
  {
   "cell_type": "code",
   "execution_count": null,
   "metadata": {},
   "outputs": [],
   "source": [
    "df.describe()"
   ]
  },
  {
   "attachments": {},
   "cell_type": "markdown",
   "metadata": {},
   "source": [
    "# Some exercises to freshen up our minds \n"
   ]
  },
  {
   "cell_type": "code",
   "execution_count": null,
   "metadata": {},
   "outputs": [],
   "source": [
    "# Exercise 1: Get the Price of the house located at '25 Bloomburg St'.\n"
   ]
  },
  {
   "cell_type": "code",
   "execution_count": null,
   "metadata": {},
   "outputs": [],
   "source": [
    "# Exercise 2: Extract a subset of the dataframe \n",
    "# where 'Rooms' equals 3, 'Type' is 'h' (house), \n",
    "# and 'Regionname' is 'Northern Metropolitan'. \n",
    "# Display the first 5 rows of this subset.\n"
   ]
  },
  {
   "cell_type": "code",
   "execution_count": null,
   "metadata": {},
   "outputs": [],
   "source": [
    "# Exercise 3: Find the unique 'CouncilArea' values in the dataframe, \n",
    "# and also display how often each unique 'Suburb' is present in the dataset.\n"
   ]
  },
  {
   "cell_type": "code",
   "execution_count": null,
   "metadata": {},
   "outputs": [],
   "source": []
  }
 ],
 "metadata": {
  "kernelspec": {
   "display_name": "Python 3 (ipykernel)",
   "language": "python",
   "name": "python3"
  },
  "language_info": {
   "codemirror_mode": {
    "name": "ipython",
    "version": 3
   },
   "file_extension": ".py",
   "mimetype": "text/x-python",
   "name": "python",
   "nbconvert_exporter": "python",
   "pygments_lexer": "ipython3",
   "version": "3.9.13"
  }
 },
 "nbformat": 4,
 "nbformat_minor": 2
}
